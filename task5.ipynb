{
 "cells": [
  {
   "cell_type": "code",
   "execution_count": null,
   "metadata": {},
   "outputs": [
    {
     "name": "stdout",
     "output_type": "stream",
     "text": [
      "input guess number4\n",
      "lower\n",
      "None\n"
     ]
    }
   ],
   "source": [
    "from random import randint\n",
    "ch=0\n",
    "def guess(u_inpt):\n",
    "    ran_int = randint(0, 30)\n",
    "    if u_inpt == ran_int:\n",
    "         print(\"oh hoo you got it\")\n",
    "    elif u_inpt > ran_int:\n",
    "        print(\"greater\")\n",
    "    else:\n",
    "        print(\"lower\")\n",
    "while(ch<3):\n",
    "        msg=\"input guess number\"\n",
    "        inpt = int(input(msg))\n",
    "        ch = ch + 1\n",
    "        print (guess(inpt))"
   ]
  },
  {
   "cell_type": "code",
   "execution_count": null,
   "metadata": {},
   "outputs": [],
   "source": []
  }
 ],
 "metadata": {
  "kernelspec": {
   "display_name": "Python 3",
   "language": "python",
   "name": "python3"
  },
  "language_info": {
   "codemirror_mode": {
    "name": "ipython",
    "version": 3
   },
   "file_extension": ".py",
   "mimetype": "text/x-python",
   "name": "python",
   "nbconvert_exporter": "python",
   "pygments_lexer": "ipython3",
   "version": "3.7.4"
  }
 },
 "nbformat": 4,
 "nbformat_minor": 2
}
