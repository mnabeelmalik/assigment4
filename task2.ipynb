{
 "cells": [
  {
   "cell_type": "code",
   "execution_count": 5,
   "metadata": {},
   "outputs": [
    {
     "name": "stdout",
     "output_type": "stream",
     "text": [
      "Swat is in Pakistan It has a population of about 200000 picnic point. Yes mountains are nearby.\n",
      "Malam Jaba is in Pakistan It has a population of about 30000 picnic point. Malam Jabba mountains are nearby.\n",
      "Gilgit is in Pakistan It has a population of about 1000000 picnic point. Shangrilla Resort mountains are nearby.\n"
     ]
    }
   ],
   "source": [
    "citie = {\n",
    "    'swat': {\n",
    "        'country': 'pakistan',\n",
    "        'population': 200000,\n",
    "        'picnic point':'yes',\n",
    "        },\n",
    "    'Malam jaba': {\n",
    "        'country': 'pakistan',\n",
    "        'population': 30000,\n",
    "        'picnic point': 'malam jabba',\n",
    "        },\n",
    "    'gilgit': {\n",
    "        'country': 'pakistan',\n",
    "        'population':1000000,\n",
    "        'picnic point': 'shangrilla resort',\n",
    "        }\n",
    "    }\n",
    "\n",
    "for city, city_info in citie.items():\n",
    "    country = city_info['country'].title()\n",
    "    population = city_info['population']\n",
    "    pic_pt = city_info['picnic point'].title()\n",
    "\n",
    "    print(city.title() + \" is in \" + country+\" It has a population of about \" + str(population)+\"it have picnic point? \" + pic_pt + \" mountains are nearby.\")"
   ]
  },
  {
   "cell_type": "code",
   "execution_count": null,
   "metadata": {},
   "outputs": [],
   "source": []
  }
 ],
 "metadata": {
  "kernelspec": {
   "display_name": "Python 3",
   "language": "python",
   "name": "python3"
  },
  "language_info": {
   "codemirror_mode": {
    "name": "ipython",
    "version": 3
   },
   "file_extension": ".py",
   "mimetype": "text/x-python",
   "name": "python",
   "nbconvert_exporter": "python",
   "pygments_lexer": "ipython3",
   "version": "3.7.4"
  }
 },
 "nbformat": 4,
 "nbformat_minor": 2
}
