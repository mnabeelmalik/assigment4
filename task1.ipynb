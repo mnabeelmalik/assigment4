{
 "cells": [
  {
   "cell_type": "code",
   "execution_count": 8,
   "metadata": {},
   "outputs": [
    {
     "name": "stdout",
     "output_type": "stream",
     "text": [
      "First name: Nabeel\n",
      "Last name: Malik\n",
      "Age: 22\n",
      "City: Karachi\n",
      "Qualification: Engineer\n"
     ]
    }
   ],
   "source": [
    "data = {\n",
    "    'first_name': 'nabeel',\n",
    "    'last_name': 'malik',\n",
    "    'age': '22',\n",
    "    'city': 'karachi',\n",
    "    }\n",
    "\n",
    "print('First name: ' + data['first_name'].title())\n",
    "print('Last name: ' + data['last_name'].title())\n",
    "print('Age: ' + data['age'])\n",
    "print('City: ' + data['city'].title())\n",
    "data['qualification']=''\n",
    "data['qualification']=\"Engineer\"\n",
    "print('Qualification: ' + data['qualification'].title())\n",
    "del data['qualification']\n",
    "#print('Qualification: ' + data['qualification'].title())"
   ]
  },
  {
   "cell_type": "code",
   "execution_count": null,
   "metadata": {},
   "outputs": [],
   "source": []
  }
 ],
 "metadata": {
  "kernelspec": {
   "display_name": "Python 3",
   "language": "python",
   "name": "python3"
  },
  "language_info": {
   "codemirror_mode": {
    "name": "ipython",
    "version": 3
   },
   "file_extension": ".py",
   "mimetype": "text/x-python",
   "name": "python",
   "nbconvert_exporter": "python",
   "pygments_lexer": "ipython3",
   "version": "3.7.4"
  }
 },
 "nbformat": 4,
 "nbformat_minor": 2
}
